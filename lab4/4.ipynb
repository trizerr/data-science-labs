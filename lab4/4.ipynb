{
  "nbformat": 4,
  "nbformat_minor": 0,
  "metadata": {
    "colab": {
      "provenance": []
    },
    "kernelspec": {
      "name": "python3",
      "display_name": "Python 3"
    },
    "language_info": {
      "name": "python"
    }
  },
  "cells": [
    {
      "cell_type": "markdown",
      "source": [
        "**Лабораторна робота №4**"
      ],
      "metadata": {
        "id": "npshzEiVlBON"
      }
    },
    {
      "cell_type": "markdown",
      "source": [
        "●\tЗавантажити файл з даними із папки – data."
      ],
      "metadata": {
        "id": "dhfOmqxNA5Yi"
      }
    },
    {
      "cell_type": "code",
      "execution_count": 2,
      "metadata": {
        "id": "zdYBFbQyAv5E",
        "colab": {
          "base_uri": "https://localhost:8080/",
          "height": 132
        },
        "outputId": "e278aa1e-2be1-4570-bd40-090069788546"
      },
      "outputs": [
        {
          "output_type": "error",
          "ename": "SyntaxError",
          "evalue": "ignored",
          "traceback": [
            "\u001b[0;36m  File \u001b[0;32m\"<ipython-input-2-10e55dcd3663>\"\u001b[0;36m, line \u001b[0;32m2\u001b[0m\n\u001b[0;31m    pip install factor_analyzer\u001b[0m\n\u001b[0m        ^\u001b[0m\n\u001b[0;31mSyntaxError\u001b[0m\u001b[0;31m:\u001b[0m invalid syntax\n"
          ]
        }
      ],
      "source": [
        "import pandas as pd\n",
        "from factor_analyzer import FactorAnalyzer\n",
        "import matplotlib.pyplot as plt\n",
        "from scipy import stats\n",
        "from sklearn.datasets import make_blobs, make_moons\n",
        "from sklearn.metrics import pairwise_distances_argmin\n",
        "from sklearn.cluster import SpectralClustering, KMeans\n",
        "import numpy as np\n",
        "\n",
        "\n",
        "df = pd.read_csv('Country-data.csv')\n",
        "print(df.head())"
      ]
    },
    {
      "cell_type": "markdown",
      "source": [
        "●\tПочніть із необхідної перевірки даних, очищення даних та EDA, зробіть однофакторний аналіз, двофакторний аналіз тощо. Візуалізуйте закономірності."
      ],
      "metadata": {
        "id": "L6mDWTeRBAGw"
      }
    },
    {
      "cell_type": "code",
      "source": [
        "print('Пустих значень:')\n",
        "print(df.isnull().sum())\n",
        "del df['country']\n",
        "\n",
        "F, p = stats.f_oneway(df['exports'], df['imports'])\n",
        "F_test = stats.f.ppf((1-0.05), 4, 15)\n",
        "print(\"Однофакторний аналіз для експорту та імпорту\")\n",
        "print('F значення = % .2F, значення p% .9f'%(F, p))\n",
        "\n",
        "print(\"Двофакторний аналіз\")\n",
        "fa = FactorAnalyzer()\n",
        "fa.fit(df)\n",
        "\n",
        "ev, v = fa.get_eigenvalues()\n",
        "print(ev)\n",
        "plt.scatter(range(1,df.shape[1]+1),ev)\n",
        "plt.plot(range(1,df.shape[1]+1),ev)\n",
        "plt.xlabel('Фактори')\n",
        "plt.ylabel('значення')\n",
        "plt.grid()\n",
        "plt.show()\n"
      ],
      "metadata": {
        "id": "EZddYi3FBC_g"
      },
      "execution_count": null,
      "outputs": []
    },
    {
      "cell_type": "markdown",
      "source": [
        "●\tВи повинні виконати аналіз викидів для набору даних. Вибрати, залишити їх чи видалити залежно від отриманих результатів. "
      ],
      "metadata": {
        "id": "A6UIAlFeBLrs"
      }
    },
    {
      "cell_type": "code",
      "source": [
        "print(df.describe())\n",
        "\n",
        "plt.subplot(3,3,1)\n",
        "plt.title('child_mort')\n",
        "plt.boxplot(df['child_mort'])\n",
        "\n",
        "plt.subplot(3,3,2)\n",
        "plt.title('exports')\n",
        "plt.boxplot(df['exports'])\n",
        "\n",
        "plt.subplot(3,3,3)\n",
        "plt.title('health')\n",
        "plt.boxplot(df['health'])\n",
        "\n",
        "plt.subplot(3,3,4)\n",
        "plt.title('imports')\n",
        "plt.boxplot(df['imports'])\n",
        "\n",
        "plt.subplot(3,3,5)\n",
        "plt.title('income')\n",
        "plt.boxplot(df['income'])\n",
        "\n",
        "plt.subplot(3,3,6)\n",
        "plt.title('inflation')\n",
        "plt.boxplot(df['inflation'])\n",
        "\n",
        "plt.subplot(3,3,7)\n",
        "plt.title('life_expec')\n",
        "plt.boxplot(df['life_expec'])\n",
        "\n",
        "plt.subplot(3,3,8)\n",
        "plt.title('total_fer')\n",
        "plt.boxplot(df['total_fer'])\n",
        "\n",
        "plt.subplot(3,3,9)\n",
        "plt.title('gdpp')\n",
        "plt.boxplot(df['gdpp'])\n",
        "plt.show()"
      ],
      "metadata": {
        "id": "Nf3dgcnRBOhp"
      },
      "execution_count": null,
      "outputs": []
    },
    {
      "cell_type": "markdown",
      "source": [
        "●\tПровести кластеризацію, використовуючи k-mean методологію та інші (не менше 5) з прикладів та документації."
      ],
      "metadata": {
        "id": "7l6_n_uHBR3M"
      }
    },
    {
      "cell_type": "code",
      "source": [
        "X = pd.DataFrame(df, columns=['exports', 'inflation'])\n",
        "\n",
        "kmeans = KMeans(n_clusters=4).fit(df)\n",
        "centroids = kmeans.cluster_centers_\n",
        "print(centroids)\n",
        "X.to_csv('kmeans.csv')\n",
        "\n",
        "plt.scatter(df['exports'], df['inflation'], c= kmeans.labels_.astype(float), s=50, alpha=0.5)\n",
        "plt.scatter(centroids[:, 0], centroids[:, 1], c='red', s=50)\n",
        "plt.show()\n",
        "\n",
        "X, y_true = make_blobs(n_samples=len(df['exports']), centers=4, cluster_std=0.70, random_state=0)\n",
        "\n",
        "kmeans = KMeans(n_clusters=4)\n",
        "kmeans.fit(X)\n",
        "y_kmeans = kmeans.predict(X)\n",
        "\n",
        "plt.scatter(X[:, 0], X[:, 1], c=y_kmeans, s=50, cmap='viridis')\n",
        "\n",
        "centers = kmeans.cluster_centers_\n",
        "plt.scatter(centers[:, 0], centers[:, 1], c='red', s=100, alpha=0.5)\n",
        "plt.show()\n",
        "\n",
        "\n",
        "def find_clusters(X, n_clusters, rseed=2):\n",
        "    # 1. Randomly choose clusters\n",
        "    rng = np.random.RandomState(rseed)\n",
        "    i = rng.permutation(X.shape[0])[:n_clusters]\n",
        "    centers = X[i]\n",
        "\n",
        "    while True:\n",
        "        # 2a. Assign labels based on closest center\n",
        "        labels = pairwise_distances_argmin(X, centers)\n",
        "\n",
        "        # 2b. Find new centers from means of points\n",
        "        new_centers = np.array([X[labels == i].mean(0)\n",
        "                                for i in range(n_clusters)])\n",
        "\n",
        "        # 2c. Check for convergence\n",
        "        if np.all(centers == new_centers):\n",
        "            break\n",
        "        centers = new_centers\n",
        "\n",
        "    return centers, labels\n",
        "\n",
        "\n",
        "centers, labels = find_clusters(X, 4)\n",
        "plt.scatter(X[:, 0], X[:, 1], c=labels, s=50, cmap='viridis')\n",
        "plt.show()\n",
        "\n",
        "X, y = make_moons(len(df['exports']), noise=.05, random_state=0)\n",
        "model = SpectralClustering(n_clusters=2, affinity='nearest_neighbors',\n",
        "                           assign_labels='kmeans')\n",
        "labels = model.fit_predict(X)\n",
        "plt.scatter(X[:, 0], X[:, 1], c=labels, s=50, cmap='viridis')\n",
        "plt.show()"
      ],
      "metadata": {
        "id": "84nVH_k7BVat"
      },
      "execution_count": null,
      "outputs": []
    },
    {
      "cell_type": "markdown",
      "source": [
        "●Спробуйте оптимізувати гіпер-параметри для кожного з обраних методів кластеризації.\n",
        "(в попередніх пунктах)"
      ],
      "metadata": {
        "id": "AnrE92z3BdZI"
      }
    },
    {
      "cell_type": "markdown",
      "source": [
        "●\tЯкий з протестованих вами методів дав найкращий результат?\n",
        "k-means з розбиттям на 4 кластери"
      ],
      "metadata": {
        "id": "yzriOBSyl2oG"
      }
    },
    {
      "cell_type": "markdown",
      "source": [
        "●\tВізуалізуйте результати кластеризації та оптимізації гіпер-параметрів.\n",
        "(в попередніх пунктах)"
      ],
      "metadata": {
        "id": "nGU3nnNjl3o5"
      }
    },
    {
      "cell_type": "markdown",
      "source": [
        "●\tАгрегуйте дані з аналізом ефективності різних методів кластеризації у результуючий dataframe. \n",
        "(було збережено при кращій кластеризації)"
      ],
      "metadata": {
        "id": "7SiatanXl93C"
      }
    },
    {
      "cell_type": "markdown",
      "source": [
        "●\tПідготуйте summary, використовуючи лише необхідні матеріали."
      ],
      "metadata": {
        "id": "GowiTLnYmCdb"
      }
    },
    {
      "cell_type": "code",
      "source": [
        "print(df.describe())"
      ],
      "metadata": {
        "id": "ClZ7NhF7ByKe"
      },
      "execution_count": null,
      "outputs": []
    }
  ]
}